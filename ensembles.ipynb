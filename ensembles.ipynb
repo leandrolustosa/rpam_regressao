{
 "metadata": {
  "language_info": {
   "codemirror_mode": {
    "name": "ipython",
    "version": 3
   },
   "file_extension": ".py",
   "mimetype": "text/x-python",
   "name": "python",
   "nbconvert_exporter": "python",
   "pygments_lexer": "ipython3",
   "version": "3.8.7-final"
  },
  "orig_nbformat": 2,
  "kernelspec": {
   "name": "python3",
   "display_name": "Python 3.8.7 64-bit ('.venv')",
   "metadata": {
    "interpreter": {
     "hash": "b86261d777005f8020e633769ec22428809996d22ee42ad31571e158a9fb0e21"
    }
   }
  }
 },
 "nbformat": 4,
 "nbformat_minor": 2,
 "cells": [
  {
   "cell_type": "code",
   "execution_count": 1,
   "metadata": {},
   "outputs": [
    {
     "output_type": "stream",
     "name": "stdout",
     "text": [
      "shape X=(2126, 21), shape y=(2126,)\nTR: shape X_tr=(1594, 21), shape y_tr=(1594,)\nTE: shape X_te=(532, 21), shape y_te=(532,)\n"
     ]
    }
   ],
   "source": [
    "from sklearn.model_selection import train_test_split\n",
    "\n",
    "import pandas as pd\n",
    "\n",
    "data = pd.read_csv(\"./dataset/fetal_health.csv\")\n",
    "data = data.dropna()\n",
    "\n",
    "target = \"fetal_health\"\n",
    "\n",
    "X = data.drop(target, axis=1)\n",
    "y = data[target]\n",
    "print(f\"shape X={X.shape}, shape y={y.shape}\")\n",
    "\n",
    "X_tr, X_te, y_tr, y_te = train_test_split(X, y, random_state=42)\n",
    "print(f\"TR: shape X_tr={X_tr.shape}, shape y_tr={y_tr.shape}\")\n",
    "print(f\"TE: shape X_te={X_te.shape}, shape y_te={y_te.shape}\")"
   ]
  },
  {
   "cell_type": "code",
   "execution_count": 2,
   "metadata": {},
   "outputs": [],
   "source": [
    "from sklearn.neighbors import KNeighborsClassifier\n",
    "from sklearn.svm import SVC\n",
    "from sklearn.tree import DecisionTreeClassifier\n",
    "\n",
    "import numpy as np\n",
    "\n",
    "classificadores = { \"knn\": KNeighborsClassifier(), \"tree\": DecisionTreeClassifier(), \"svc\": SVC() }\n",
    "\n",
    "parametros = { \"knn\": { \"modelo__n_neighbors\": list(range(1,15,2)),\n",
    "                        \"modelo__weights\": ['uniform', 'distance'] }, \n",
    "               \"tree\": { \"modelo__splitter\": [\"best\", \"random\"],\n",
    "                         \"modelo__min_samples_split\": list(range(2,6,2)), \n",
    "                         \"modelo__max_depth\": [None] + list(range(7,15,2)),\n",
    "                         \"modelo__criterion\": [\"gini\", \"entropy\"],\n",
    "                         \"modelo__max_features\": [None] + [\"auto\", \"sqrt\", \"log2\"] }, \n",
    "               \"svc\": { \"modelo__kernel\": ['linear', 'poly', 'rbf', 'sigmoid', 'precomputed'],\n",
    "                        \"modelo__degree\": list(range(1,5,2)),\n",
    "                        \"modelo__gamma\": ['scale', 'auto'],\n",
    "                        \"modelo__C\": np.arange(0.05, 1.0, 0.1) } \n",
    "             }"
   ]
  },
  {
   "cell_type": "code",
   "execution_count": 3,
   "metadata": {},
   "outputs": [],
   "source": [
    "import warnings\n",
    "\n",
    "warnings.filterwarnings('ignore')"
   ]
  },
  {
   "cell_type": "code",
   "execution_count": 4,
   "metadata": {},
   "outputs": [
    {
     "output_type": "stream",
     "name": "stdout",
     "text": [
      "knn\n",
      "accuracy=0.9304511278195489\n",
      "best_params={'modelo__n_neighbors': 5, 'modelo__weights': 'distance'}\n",
      "\n",
      "tree\n",
      "accuracy=0.9285714285714286\n",
      "best_params={'modelo__criterion': 'entropy', 'modelo__max_depth': 7, 'modelo__max_features': None, 'modelo__min_samples_split': 4, 'modelo__splitter': 'best'}\n",
      "\n",
      "svc\n",
      "accuracy=0.8966165413533834\n",
      "best_params={'modelo__C': 0.9500000000000002, 'modelo__degree': 1, 'modelo__gamma': 'scale', 'modelo__kernel': 'linear'}\n",
      "\n"
     ]
    }
   ],
   "source": [
    "\n",
    "import matplotlib.pylab as plt\n",
    "\n",
    "from sklearn.preprocessing import StandardScaler\n",
    "\n",
    "from sklearn.model_selection import GridSearchCV\n",
    "from sklearn.model_selection import RepeatedKFold\n",
    "from sklearn.pipeline import Pipeline\n",
    "\n",
    "for key in classificadores.keys():\n",
    "\n",
    "    pipeTotal = Pipeline([\n",
    "        (\"padronizacao\", StandardScaler()),\n",
    "        (\"modelo\", classificadores[key])\n",
    "    ])\n",
    "\n",
    "    param_grid = parametros[key]\n",
    "\n",
    "    modelo = GridSearchCV(pipeTotal, param_grid=param_grid)\n",
    "    modelo.fit(X_tr, y_tr)\n",
    "    y_pr = modelo.predict(X_te)\n",
    "\n",
    "    print(key)\n",
    "    hits = y_pr == y_te\n",
    "    print(f'accuracy={sum(hits)/len(hits)}')\n",
    "    print(f\"best_params={modelo.best_params_}\\n\")"
   ]
  },
  {
   "cell_type": "code",
   "execution_count": 6,
   "metadata": {},
   "outputs": [
    {
     "output_type": "stream",
     "name": "stdout",
     "text": [
      "voting\n",
      "accuracy=0.9266917293233082\n",
      "best_params={'voting': 'hard', 'weights': [1, 3, 2]}\n",
      "\n",
      "stacking\n",
      "accuracy=0.9342105263157895\n",
      "best_params={'cv': RepeatedKFold(n_repeats=1, n_splits=9, random_state=42), 'passthrough': False}\n",
      "\n"
     ]
    }
   ],
   "source": [
    "from sklearn.ensemble import VotingClassifier\n",
    "from sklearn.ensemble import StackingClassifier\n",
    "\n",
    "import itertools\n",
    "\n",
    "estimators = [\n",
    "    (\"knn\", KNeighborsClassifier(n_neighbors=5, weights=\"distance\")),\n",
    "    (\"tree\", DecisionTreeClassifier(criterion='entropy', max_depth=None, max_features=None, min_samples_split=4, splitter='best')),\n",
    "    (\"svc\", SVC(C=0.95, degree=1, gamma='scale', kernel='linear'))]\n",
    "\n",
    "ensembles = { \"voting\": VotingClassifier(estimators=estimators), \"stacking\": StackingClassifier(estimators=estimators) }\n",
    "\n",
    "weights = [[1,1,1], [3,2,2], [2,2,3], [2,3,2]] + [list(t) for t in itertools.permutations([1,2,3], 3)]\n",
    "\n",
    "parametros[\"voting\"] = { \"voting\": [\"hard\", \"soft\"], \"weights\": weights }\n",
    "\n",
    "cv_5 = RepeatedKFold(n_splits=5, n_repeats=1, random_state=42)\n",
    "cv_7 = RepeatedKFold(n_splits=7, n_repeats=1, random_state=42)\n",
    "cv_9 = RepeatedKFold(n_splits=9, n_repeats=1, random_state=42)\n",
    "\n",
    "parametros[\"stacking\"] = { \"cv\": [cv_5, cv_7, cv_9], \"passthrough\": [True, False]}\n",
    "\n",
    "for key in ensembles.keys():\n",
    "\n",
    "    param_grid = parametros[key]\n",
    "\n",
    "    modelo = GridSearchCV(ensembles[key], param_grid=param_grid)\n",
    "    modelo.fit(X_tr, y_tr)\n",
    "    en_pr = modelo.predict(X_te)\n",
    "\n",
    "    print(key)\n",
    "    en_hits = en_pr == y_te\n",
    "    print(f'accuracy={sum(en_hits)/len(en_hits)}')\n",
    "    print(f\"best_params={modelo.best_params_}\\n\")\n"
   ]
  },
  {
   "cell_type": "code",
   "execution_count": null,
   "metadata": {},
   "outputs": [],
   "source": []
  }
 ]
}