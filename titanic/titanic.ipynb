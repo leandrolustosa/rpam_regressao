{
 "metadata": {
  "language_info": {
   "codemirror_mode": {
    "name": "ipython",
    "version": 3
   },
   "file_extension": ".py",
   "mimetype": "text/x-python",
   "name": "python",
   "nbconvert_exporter": "python",
   "pygments_lexer": "ipython3",
   "version": "3.8.7-final"
  },
  "orig_nbformat": 2,
  "kernelspec": {
   "name": "python3",
   "display_name": "Python 3.8.7 64-bit ('.venv')",
   "metadata": {
    "interpreter": {
     "hash": "8fe3e4b66ebb57370e19b8dfd0eb8b43a1281fe777b9c7c761bd4cb6d3ebb8ef"
    }
   }
  }
 },
 "nbformat": 4,
 "nbformat_minor": 2,
 "cells": [
  {
   "cell_type": "code",
   "execution_count": 72,
   "metadata": {},
   "outputs": [
    {
     "output_type": "stream",
     "name": "stdout",
     "text": [
      "(891, 1)\n"
     ]
    }
   ],
   "source": [
    "import pandas as pd\n",
    "train = pd.read_csv('train.csv')\n",
    "test = pd.read_csv('test.csv')\n",
    "X = train[list(test.columns)]\n",
    "y = train[train.columns[~train.columns.isin(test.columns)]]\n",
    "\n",
    "print(y.shape)\n"
   ]
  },
  {
   "cell_type": "code",
   "execution_count": 79,
   "metadata": {},
   "outputs": [
    {
     "output_type": "stream",
     "name": "stdout",
     "text": [
      "     PassengerId  Pclass                                               Name  \\\n0              1       3                            Braund, Mr. Owen Harris   \n1              2       1  Cumings, Mrs. John Bradley (Florence Briggs Th...   \n2              3       3                             Heikkinen, Miss. Laina   \n3              4       1       Futrelle, Mrs. Jacques Heath (Lily May Peel)   \n4              5       3                           Allen, Mr. William Henry   \n..           ...     ...                                                ...   \n886          887       2                              Montvila, Rev. Juozas   \n887          888       1                       Graham, Miss. Margaret Edith   \n888          889       3           Johnston, Miss. Catherine Helen \"Carrie\"   \n889          890       1                              Behr, Mr. Karl Howell   \n890          891       3                                Dooley, Mr. Patrick   \n\n        Sex   Age  SibSp  Parch            Ticket     Fare Cabin Embarked  \\\n0      male  22.0      1      0         A/5 21171   7.2500   NaN        S   \n1    female  38.0      1      0          PC 17599  71.2833   C85        C   \n2    female  26.0      0      0  STON/O2. 3101282   7.9250   NaN        S   \n3    female  35.0      1      0            113803  53.1000  C123        S   \n4      male  35.0      0      0            373450   8.0500   NaN        S   \n..      ...   ...    ...    ...               ...      ...   ...      ...   \n886    male  27.0      0      0            211536  13.0000   NaN        S   \n887  female  19.0      0      0            112053  30.0000   B42        S   \n888  female   NaN      1      2        W./C. 6607  23.4500   NaN        S   \n889    male  26.0      0      0            111369  30.0000  C148        C   \n890    male  32.0      0      0            370376   7.7500   NaN        Q   \n\n     FamilySize  \n0             1  \n1             1  \n2             0  \n3             1  \n4             0  \n..          ...  \n886           0  \n887           0  \n888           3  \n889           0  \n890           0  \n\n[891 rows x 12 columns]\n"
     ]
    }
   ],
   "source": [
    "from sklearn.base import BaseEstimator, TransformerMixin\n",
    "\n",
    "class AtributosNovos(BaseEstimator, TransformerMixin):\n",
    "    def __init__(self, incluirFamilySize=True, incluirIsAlone=True):\n",
    "        self.incluirFamilySize = incluirFamilySize\n",
    "        self.incluirIsAlone = incluirIsAlone\n",
    "    def fit(self, X, y=None):        \n",
    "        return self\n",
    "    def transform(self, X, y=None):\n",
    "        data = X.copy()\n",
    "\n",
    "        if self.incluirFamilySize:\n",
    "            data['FamilySize'] = data['SibSp'] + data['Parch']\n",
    "\n",
    "            # if self.incluirIsAlone:\n",
    "            #     data['IsAlone'] = data['FamilySize'] == 0\n",
    "            #     data['IsAlone'] = data['IsAlone'].astype(int)\n",
    "\n",
    "        return data\n",
    "\n",
    "atributosNovos = AtributosNovos()\n",
    "Xnovos = atributosNovos.fit_transform(X)\n",
    "\n",
    "print(Xnovos)"
   ]
  },
  {
   "cell_type": "code",
   "execution_count": 89,
   "metadata": {},
   "outputs": [
    {
     "output_type": "stream",
     "name": "stdout",
     "text": [
      "Pclass          0\nName            0\nSex             0\nAge           177\nSibSp           0\nParch           0\nFare            0\nFamilySize      0\ndtype: int64\nPclass          int64\nName           object\nSex            object\nAge           float64\nSibSp           int64\nParch           int64\nFare          float64\nFamilySize      int64\ndtype: object\n"
     ]
    }
   ],
   "source": [
    "from sklearn.base import BaseEstimator, TransformerMixin\n",
    "\n",
    "pronomes = {\n",
    "            'Mr':\"Mr\",\n",
    "            'Mrs': \"Mrs\",\n",
    "            'Ms': \"Mrs\",\n",
    "            'Mme':\"Mrs\",\n",
    "            'Mlle':\"Miss\",\n",
    "            'Miss':\"Miss\",\n",
    "            'Master':\"Master\",\n",
    "            'Dr':\"Dr\",\n",
    "            'Rev':\"Officer\",\n",
    "            'Col':\"Officer\",\n",
    "            'Capt':\"Officer\",\n",
    "            'Major':\"Officer\",\n",
    "            'Lady':\"Royalty\",\n",
    "            'Sir':\"Royalty\",\n",
    "            'the Countess':\"Royalty\",\n",
    "            'Dona':\"Royalty\",\n",
    "            'Don':\"Royalty\",\n",
    "            'Jonkheer':\"Royalty\" \n",
    "        }\n",
    "\n",
    "def extraiPronome(nome):\n",
    "    return nome.split(',')[1].split('.')[0].strip()\n",
    "\n",
    "def tratarPronome(pronome):\n",
    "    return pronomes[pronome]\n",
    "\n",
    "class AtributosDesejados(BaseEstimator, TransformerMixin):\n",
    "    def __init__(self, excluirName=True, tratarPronome=True):\n",
    "        self.excluirName = excluirName\n",
    "        self.tratarPronome = tratarPronome\n",
    "    def fit(self, X, y=None):\n",
    "        self.colunasIndesejadas = [\"PassengerId\", \"Ticket\", \"Cabin\", \"Embarked\"]\n",
    "        if self.excluirName:\n",
    "            self.colunasIndesejadas.append('Name')\n",
    "        return self\n",
    "    def transform(self, X, y=None):\n",
    "        data = X.copy()\n",
    "\n",
    "        Xdrop = data.drop(self.colunasIndesejadas,axis=1)\n",
    "        if 'Name' not in self.colunasIndesejadas:\n",
    "            Xdrop['Name'] = Xdrop['Name'].apply(extraiPronome)\n",
    "            if self.tratarPronome:\n",
    "                Xdrop['Name'] = Xdrop['Name'].apply(tratarPronome)\n",
    "\n",
    "        return Xdrop\n",
    "\n",
    "atributosDesejados = AtributosDesejados(excluirName=False)\n",
    "Xdesejados = atributosDesejados.fit_transform(Xnovos)"
   ]
  },
  {
   "cell_type": "code",
   "execution_count": 75,
   "metadata": {},
   "outputs": [
    {
     "output_type": "stream",
     "name": "stdout",
     "text": [
      "Index(['Pclass', 'Age', 'Fare', 'FamilySize', 'IsAlone'], dtype='object')\n"
     ]
    }
   ],
   "source": [
    "from sklearn.base import BaseEstimator, TransformerMixin\n",
    "\n",
    "class AtributosNumericos(BaseEstimator, TransformerMixin):\n",
    "    def fit(self, X, y=None):\n",
    "        self.colunasNumericas = X.select_dtypes(include='number').columns\n",
    "        return self\n",
    "    def transform(self, X, y=None):\n",
    "        data = X.copy()\n",
    "\n",
    "        return data[self.colunasNumericas].to_numpy()\n",
    "\n",
    "atributosNumericos = AtributosNumericos()\n",
    "Xnumericos = atributosNumericos.fit_transform(Xdesejados)\n",
    "print(atributosNumericos.colunasNumericas)\n",
    "print(Xnumericos.isnull().sum())\n"
   ]
  },
  {
   "cell_type": "code",
   "execution_count": 76,
   "metadata": {},
   "outputs": [],
   "source": [
    "from sklearn.base import BaseEstimator, TransformerMixin\n",
    "\n",
    "class AtributosCategoricos(BaseEstimator, TransformerMixin):\n",
    "    def fit(self, X, y=None):\n",
    "        self.colunasCategoricas = X.select_dtypes(include='object').columns\n",
    "        return self\n",
    "    def transform(self, X, y=None):\n",
    "        data = X.copy()\n",
    "\n",
    "        return data[self.colunasCategoricas].to_numpy()\n"
   ]
  },
  {
   "cell_type": "code",
   "execution_count": 77,
   "metadata": {},
   "outputs": [],
   "source": [
    "from sklearn.impute import SimpleImputer\n",
    "from sklearn.preprocessing import OneHotEncoder, StandardScaler\n",
    "from sklearn.pipeline import Pipeline, FeatureUnion\n",
    "\n",
    "trataAtributos = Pipeline([\n",
    "    ('unecaracteristicas', FeatureUnion([\n",
    "        ('pipenum', Pipeline([\n",
    "            ('atributos_numericos', AtributosNumericos()),\n",
    "            ('imputer', SimpleImputer(strategy='median')),\n",
    "            ('scaler', StandardScaler())\n",
    "        ])),\n",
    "        ('pipecat', Pipeline([\n",
    "            ('atributos_categoricos', AtributosCategoricos()),\n",
    "            ('imputer', SimpleImputer(strategy='most_frequent')),\n",
    "            ('encoder', OneHotEncoder(handle_unknown='ignore'))\n",
    "        ]))\n",
    "    ])),\n",
    "])\n"
   ]
  },
  {
   "cell_type": "code",
   "execution_count": 113,
   "metadata": {
    "tags": []
   },
   "outputs": [
    {
     "output_type": "stream",
     "name": "stdout",
     "text": [
      "scores=[0.83245025 0.89799862 0.86869706 0.86140231 0.85628898 0.86807279\n 0.87376645 0.87814465 0.85320388 0.83546071 0.82214941 0.84744724\n 0.87253278 0.84755382 0.89936817 0.90816456 0.81350007 0.86842792\n 0.86618357 0.86871469 0.87929698 0.88893371 0.83128307 0.83291925\n 0.87249036 0.86138996 0.87562189 0.86622921 0.86697052 0.85120321\n 0.86311001 0.87554846 0.90588235 0.84252646 0.86183953 0.9136163\n 0.79147013 0.87846045 0.84316038 0.86559794 0.83207716 0.84960333\n 0.86513941 0.89186508 0.86604278 0.86675579 0.84913571 0.91293316\n 0.89827659 0.80235619], média=0.8628252661175424, desv_pad=0.026530271503137554\n"
     ]
    }
   ],
   "source": [
    "from sklearn.ensemble import RandomForestClassifier\n",
    "from sklearn.model_selection import GridSearchCV, cross_validate, RepeatedKFold\n",
    "import numpy as np\n",
    "\n",
    "pipetotal = Pipeline([\n",
    "    ('atributosNovos', AtributosNovos()),\n",
    "    ('atributosDesejados', AtributosDesejados()),\n",
    "    ('trataAtributos', trataAtributos),\n",
    "    ('classificador', RandomForestClassifier())\n",
    "])\n",
    "\n",
    "parametros = {    \n",
    "    'atributosDesejados__excluirName': [True, False],\n",
    "    'classificador__max_depth': [None] + list(range(3,9,2))\n",
    "    #'classificador__max_depth': [5]\n",
    "}\n",
    "modelo = GridSearchCV(pipetotal, param_grid=parametros, scoring='roc_auc')\n",
    "\n",
    "scores = cross_validate(modelo, X, y.values.ravel(), cv=RepeatedKFold())\n",
    "\n",
    "print(f\"scores={scores['test_score']}, média={np.mean(scores['test_score'])}, desv_pad={np.std(scores['test_score'])}\")"
   ]
  },
  {
   "cell_type": "code",
   "execution_count": 95,
   "metadata": {},
   "outputs": [
    {
     "output_type": "stream",
     "name": "stderr",
     "text": [
      "c:\\Users\\leandropo\\_git\\ifes\\rpam-regressao\\.venv\\lib\\site-packages\\sklearn\\pipeline.py:346: DataConversionWarning: A column-vector y was passed when a 1d array was expected. Please change the shape of y to (n_samples,), for example using ravel().\n",
      "  self._final_estimator.fit(Xt, y, **fit_params_last_step)\n",
      "c:\\Users\\leandropo\\_git\\ifes\\rpam-regressao\\.venv\\lib\\site-packages\\sklearn\\pipeline.py:346: DataConversionWarning: A column-vector y was passed when a 1d array was expected. Please change the shape of y to (n_samples,), for example using ravel().\n",
      "  self._final_estimator.fit(Xt, y, **fit_params_last_step)\n",
      "c:\\Users\\leandropo\\_git\\ifes\\rpam-regressao\\.venv\\lib\\site-packages\\sklearn\\pipeline.py:346: DataConversionWarning: A column-vector y was passed when a 1d array was expected. Please change the shape of y to (n_samples,), for example using ravel().\n",
      "  self._final_estimator.fit(Xt, y, **fit_params_last_step)\n",
      "c:\\Users\\leandropo\\_git\\ifes\\rpam-regressao\\.venv\\lib\\site-packages\\sklearn\\pipeline.py:346: DataConversionWarning: A column-vector y was passed when a 1d array was expected. Please change the shape of y to (n_samples,), for example using ravel().\n",
      "  self._final_estimator.fit(Xt, y, **fit_params_last_step)\n",
      "c:\\Users\\leandropo\\_git\\ifes\\rpam-regressao\\.venv\\lib\\site-packages\\sklearn\\pipeline.py:346: DataConversionWarning: A column-vector y was passed when a 1d array was expected. Please change the shape of y to (n_samples,), for example using ravel().\n",
      "  self._final_estimator.fit(Xt, y, **fit_params_last_step)\n",
      "c:\\Users\\leandropo\\_git\\ifes\\rpam-regressao\\.venv\\lib\\site-packages\\sklearn\\pipeline.py:346: DataConversionWarning: A column-vector y was passed when a 1d array was expected. Please change the shape of y to (n_samples,), for example using ravel().\n",
      "  self._final_estimator.fit(Xt, y, **fit_params_last_step)\n",
      "c:\\Users\\leandropo\\_git\\ifes\\rpam-regressao\\.venv\\lib\\site-packages\\sklearn\\pipeline.py:346: DataConversionWarning: A column-vector y was passed when a 1d array was expected. Please change the shape of y to (n_samples,), for example using ravel().\n",
      "  self._final_estimator.fit(Xt, y, **fit_params_last_step)\n",
      "c:\\Users\\leandropo\\_git\\ifes\\rpam-regressao\\.venv\\lib\\site-packages\\sklearn\\pipeline.py:346: DataConversionWarning: A column-vector y was passed when a 1d array was expected. Please change the shape of y to (n_samples,), for example using ravel().\n",
      "  self._final_estimator.fit(Xt, y, **fit_params_last_step)\n",
      "c:\\Users\\leandropo\\_git\\ifes\\rpam-regressao\\.venv\\lib\\site-packages\\sklearn\\pipeline.py:346: DataConversionWarning: A column-vector y was passed when a 1d array was expected. Please change the shape of y to (n_samples,), for example using ravel().\n",
      "  self._final_estimator.fit(Xt, y, **fit_params_last_step)\n",
      "c:\\Users\\leandropo\\_git\\ifes\\rpam-regressao\\.venv\\lib\\site-packages\\sklearn\\pipeline.py:346: DataConversionWarning: A column-vector y was passed when a 1d array was expected. Please change the shape of y to (n_samples,), for example using ravel().\n",
      "  self._final_estimator.fit(Xt, y, **fit_params_last_step)\n",
      "c:\\Users\\leandropo\\_git\\ifes\\rpam-regressao\\.venv\\lib\\site-packages\\sklearn\\pipeline.py:346: DataConversionWarning: A column-vector y was passed when a 1d array was expected. Please change the shape of y to (n_samples,), for example using ravel().\n",
      "  self._final_estimator.fit(Xt, y, **fit_params_last_step)\n",
      "c:\\Users\\leandropo\\_git\\ifes\\rpam-regressao\\.venv\\lib\\site-packages\\sklearn\\pipeline.py:346: DataConversionWarning: A column-vector y was passed when a 1d array was expected. Please change the shape of y to (n_samples,), for example using ravel().\n",
      "  self._final_estimator.fit(Xt, y, **fit_params_last_step)\n",
      "c:\\Users\\leandropo\\_git\\ifes\\rpam-regressao\\.venv\\lib\\site-packages\\sklearn\\pipeline.py:346: DataConversionWarning: A column-vector y was passed when a 1d array was expected. Please change the shape of y to (n_samples,), for example using ravel().\n",
      "  self._final_estimator.fit(Xt, y, **fit_params_last_step)\n",
      "c:\\Users\\leandropo\\_git\\ifes\\rpam-regressao\\.venv\\lib\\site-packages\\sklearn\\pipeline.py:346: DataConversionWarning: A column-vector y was passed when a 1d array was expected. Please change the shape of y to (n_samples,), for example using ravel().\n",
      "  self._final_estimator.fit(Xt, y, **fit_params_last_step)\n",
      "c:\\Users\\leandropo\\_git\\ifes\\rpam-regressao\\.venv\\lib\\site-packages\\sklearn\\pipeline.py:346: DataConversionWarning: A column-vector y was passed when a 1d array was expected. Please change the shape of y to (n_samples,), for example using ravel().\n",
      "  self._final_estimator.fit(Xt, y, **fit_params_last_step)\n",
      "c:\\Users\\leandropo\\_git\\ifes\\rpam-regressao\\.venv\\lib\\site-packages\\sklearn\\pipeline.py:346: DataConversionWarning: A column-vector y was passed when a 1d array was expected. Please change the shape of y to (n_samples,), for example using ravel().\n",
      "  self._final_estimator.fit(Xt, y, **fit_params_last_step)\n",
      "c:\\Users\\leandropo\\_git\\ifes\\rpam-regressao\\.venv\\lib\\site-packages\\sklearn\\pipeline.py:346: DataConversionWarning: A column-vector y was passed when a 1d array was expected. Please change the shape of y to (n_samples,), for example using ravel().\n",
      "  self._final_estimator.fit(Xt, y, **fit_params_last_step)\n",
      "c:\\Users\\leandropo\\_git\\ifes\\rpam-regressao\\.venv\\lib\\site-packages\\sklearn\\pipeline.py:346: DataConversionWarning: A column-vector y was passed when a 1d array was expected. Please change the shape of y to (n_samples,), for example using ravel().\n",
      "  self._final_estimator.fit(Xt, y, **fit_params_last_step)\n",
      "c:\\Users\\leandropo\\_git\\ifes\\rpam-regressao\\.venv\\lib\\site-packages\\sklearn\\pipeline.py:346: DataConversionWarning: A column-vector y was passed when a 1d array was expected. Please change the shape of y to (n_samples,), for example using ravel().\n",
      "  self._final_estimator.fit(Xt, y, **fit_params_last_step)\n",
      "c:\\Users\\leandropo\\_git\\ifes\\rpam-regressao\\.venv\\lib\\site-packages\\sklearn\\pipeline.py:346: DataConversionWarning: A column-vector y was passed when a 1d array was expected. Please change the shape of y to (n_samples,), for example using ravel().\n",
      "  self._final_estimator.fit(Xt, y, **fit_params_last_step)\n",
      "c:\\Users\\leandropo\\_git\\ifes\\rpam-regressao\\.venv\\lib\\site-packages\\sklearn\\pipeline.py:346: DataConversionWarning: A column-vector y was passed when a 1d array was expected. Please change the shape of y to (n_samples,), for example using ravel().\n",
      "  self._final_estimator.fit(Xt, y, **fit_params_last_step)\n",
      "c:\\Users\\leandropo\\_git\\ifes\\rpam-regressao\\.venv\\lib\\site-packages\\sklearn\\pipeline.py:346: DataConversionWarning: A column-vector y was passed when a 1d array was expected. Please change the shape of y to (n_samples,), for example using ravel().\n",
      "  self._final_estimator.fit(Xt, y, **fit_params_last_step)\n",
      "c:\\Users\\leandropo\\_git\\ifes\\rpam-regressao\\.venv\\lib\\site-packages\\sklearn\\pipeline.py:346: DataConversionWarning: A column-vector y was passed when a 1d array was expected. Please change the shape of y to (n_samples,), for example using ravel().\n",
      "  self._final_estimator.fit(Xt, y, **fit_params_last_step)\n",
      "c:\\Users\\leandropo\\_git\\ifes\\rpam-regressao\\.venv\\lib\\site-packages\\sklearn\\pipeline.py:346: DataConversionWarning: A column-vector y was passed when a 1d array was expected. Please change the shape of y to (n_samples,), for example using ravel().\n",
      "  self._final_estimator.fit(Xt, y, **fit_params_last_step)\n",
      "c:\\Users\\leandropo\\_git\\ifes\\rpam-regressao\\.venv\\lib\\site-packages\\sklearn\\pipeline.py:346: DataConversionWarning: A column-vector y was passed when a 1d array was expected. Please change the shape of y to (n_samples,), for example using ravel().\n",
      "  self._final_estimator.fit(Xt, y, **fit_params_last_step)\n",
      "c:\\Users\\leandropo\\_git\\ifes\\rpam-regressao\\.venv\\lib\\site-packages\\sklearn\\pipeline.py:346: DataConversionWarning: A column-vector y was passed when a 1d array was expected. Please change the shape of y to (n_samples,), for example using ravel().\n",
      "  self._final_estimator.fit(Xt, y, **fit_params_last_step)\n",
      "c:\\Users\\leandropo\\_git\\ifes\\rpam-regressao\\.venv\\lib\\site-packages\\sklearn\\pipeline.py:346: DataConversionWarning: A column-vector y was passed when a 1d array was expected. Please change the shape of y to (n_samples,), for example using ravel().\n",
      "  self._final_estimator.fit(Xt, y, **fit_params_last_step)\n",
      "c:\\Users\\leandropo\\_git\\ifes\\rpam-regressao\\.venv\\lib\\site-packages\\sklearn\\pipeline.py:346: DataConversionWarning: A column-vector y was passed when a 1d array was expected. Please change the shape of y to (n_samples,), for example using ravel().\n",
      "  self._final_estimator.fit(Xt, y, **fit_params_last_step)\n",
      "c:\\Users\\leandropo\\_git\\ifes\\rpam-regressao\\.venv\\lib\\site-packages\\sklearn\\pipeline.py:346: DataConversionWarning: A column-vector y was passed when a 1d array was expected. Please change the shape of y to (n_samples,), for example using ravel().\n",
      "  self._final_estimator.fit(Xt, y, **fit_params_last_step)\n",
      "c:\\Users\\leandropo\\_git\\ifes\\rpam-regressao\\.venv\\lib\\site-packages\\sklearn\\pipeline.py:346: DataConversionWarning: A column-vector y was passed when a 1d array was expected. Please change the shape of y to (n_samples,), for example using ravel().\n",
      "  self._final_estimator.fit(Xt, y, **fit_params_last_step)\n",
      "c:\\Users\\leandropo\\_git\\ifes\\rpam-regressao\\.venv\\lib\\site-packages\\sklearn\\pipeline.py:346: DataConversionWarning: A column-vector y was passed when a 1d array was expected. Please change the shape of y to (n_samples,), for example using ravel().\n",
      "  self._final_estimator.fit(Xt, y, **fit_params_last_step)\n",
      "<ipython-input-95-6d60e704ec3a>:4: SettingWithCopyWarning: \n",
      "A value is trying to be set on a copy of a slice from a DataFrame.\n",
      "Try using .loc[row_indexer,col_indexer] = value instead\n",
      "\n",
      "See the caveats in the documentation: https://pandas.pydata.org/pandas-docs/stable/user_guide/indexing.html#returning-a-view-versus-a-copy\n",
      "  result['Survived'] = y_pred\n"
     ]
    }
   ],
   "source": [
    "modelo.fit(X,y.values.ravel())\n",
    "y_pred = modelo.predict(test)\n",
    "result = test[['PassengerId']]\n",
    "result['Survived'] = y_pred\n",
    "result.to_csv('submission.csv',index=False)"
   ]
  },
  {
   "cell_type": "code",
   "execution_count": null,
   "metadata": {},
   "outputs": [],
   "source": []
  }
 ]
}